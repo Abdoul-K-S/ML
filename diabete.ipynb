{
  "nbformat": 4,
  "nbformat_minor": 0,
  "metadata": {
    "colab": {
      "name": "diabete.ipynb",
      "provenance": [],
      "authorship_tag": "ABX9TyNVSmGA3aldjZGXeWke5Z6n",
      "include_colab_link": true
    },
    "kernelspec": {
      "name": "python3",
      "display_name": "Python 3"
    }
  },
  "cells": [
    {
      "cell_type": "markdown",
      "metadata": {
        "id": "view-in-github",
        "colab_type": "text"
      },
      "source": [
        "<a href=\"https://colab.research.google.com/github/Abdoul-K-S/ML/blob/master/diabete.ipynb\" target=\"_parent\"><img src=\"https://colab.research.google.com/assets/colab-badge.svg\" alt=\"Open In Colab\"/></a>"
      ]
    },
    {
      "cell_type": "code",
      "metadata": {
        "id": "YNQoGsQO7YNo",
        "colab_type": "code",
        "colab": {}
      },
      "source": [
        "import numpy as np\n",
        "import pandas as pd\n",
        "import matplotlib.pyplot as plt\n",
        "from math import sqrt \n",
        "%matplotlib inline\n",
        "from sklearn.preprocessing import StandardScaler\n",
        "from sklearn.metrics import precision_recall_fscore_support \n",
        "from plotly import __version__\n",
        "import plotly\n",
        "import cufflinks as cf\n",
        "#Enabling the offline mode for interactive plotting locally\n",
        "from plotly.offline import download_plotlyjs,init_notebook_mode,plot,iplot\n",
        "init_notebook_mode(connected=True)\n",
        "cf.go_offline()"
      ],
      "execution_count": 0,
      "outputs": []
    },
    {
      "cell_type": "code",
      "metadata": {
        "id": "NnMY6UmG7cH0",
        "colab_type": "code",
        "colab": {}
      },
      "source": [
        "\n",
        "\n",
        "#reading the dataset \n",
        "df=pd.read_csv (\"diabetes.csv\")\n"
      ],
      "execution_count": 0,
      "outputs": []
    },
    {
      "cell_type": "code",
      "metadata": {
        "id": "-aJirOyN7hZi",
        "colab_type": "code",
        "colab": {}
      },
      "source": [
        "\n",
        "\n",
        "#plotting the dataset in scatters\n",
        "df.iplot(kind=\"scatter\", mode='markers')\n",
        "\n"
      ],
      "execution_count": 0,
      "outputs": []
    },
    {
      "cell_type": "code",
      "metadata": {
        "id": "L6_zVgvj7l1b",
        "colab_type": "code",
        "colab": {}
      },
      "source": [
        "df.scatter_matrix()"
      ],
      "execution_count": 0,
      "outputs": []
    },
    {
      "cell_type": "code",
      "metadata": {
        "id": "10k3GMb27qjk",
        "colab_type": "code",
        "colab": {}
      },
      "source": [
        "#plotting the age in histogram form\n",
        "df[\"Age\"].iplot(kind=\"histogram\")"
      ],
      "execution_count": 0,
      "outputs": []
    },
    {
      "cell_type": "code",
      "metadata": {
        "id": "SLRuWx-f7uN1",
        "colab_type": "code",
        "colab": {}
      },
      "source": [
        "#plotting the age and pregnancis in x and y axis in bar form\n",
        "df.iplot(kind = 'bar', x = 'Age', y = 'Pregnancies')"
      ],
      "execution_count": 0,
      "outputs": []
    },
    {
      "cell_type": "code",
      "metadata": {
        "id": "QgI4B7nA7xi_",
        "colab_type": "code",
        "colab": {}
      },
      "source": [
        "#taking the 20 samples only to show\n",
        "df.sample(20)"
      ],
      "execution_count": 0,
      "outputs": []
    },
    {
      "cell_type": "code",
      "metadata": {
        "id": "CJ_ejCkd75Mu",
        "colab_type": "code",
        "colab": {}
      },
      "source": [
        "\n",
        "\n",
        "#describing the dataset for calculation of count,mean,std,min,max\n",
        "df.describe()"
      ],
      "execution_count": 0,
      "outputs": []
    },
    {
      "cell_type": "code",
      "metadata": {
        "id": "-tVxDRPq7-Fr",
        "colab_type": "code",
        "colab": {}
      },
      "source": [
        "#finding out if the dataset contains any null value.Thus we don't get any missing values.\n",
        "df.info()"
      ],
      "execution_count": 0,
      "outputs": []
    },
    {
      "cell_type": "code",
      "metadata": {
        "id": "AHPXp_cG7-7X",
        "colab_type": "code",
        "colab": {}
      },
      "source": [
        "#showing the information of the name of the columns with their meanings\n",
        "info = [\"Number of times pregnant\",\n",
        "\"Plasma glucose concentration a 2 hours in an oral glucose tolerance test\",\n",
        "\"Diastolic blood pressure (mm Hg)\",\n",
        "\"Triceps skin fold thickness (mm)\",\n",
        "\"2-Hour serum insulin (mu U/ml)\",\n",
        "\"Body mass index (weight in kg/(height in m)^2)\",\n",
        "\"Diabetes pedigree function\",\n",
        "\"Age (years)\",\n",
        "\"Class variable (0 or 1) 268 of 768 are 1, the others are 0\"]\n",
        "for i in range (len(info)):\n",
        "    print(df.columns[i],\"-->\",info[i])"
      ],
      "execution_count": 0,
      "outputs": []
    },
    {
      "cell_type": "code",
      "metadata": {
        "id": "atR9jfAr8DaD",
        "colab_type": "code",
        "colab": {}
      },
      "source": [
        "#returning the pandas series\n",
        "x=df.iloc[:,0:8]\n",
        "y=df.iloc[:,-1]"
      ],
      "execution_count": 0,
      "outputs": []
    },
    {
      "cell_type": "code",
      "metadata": {
        "id": "GCICHaht8HgJ",
        "colab_type": "code",
        "colab": {}
      },
      "source": [
        "\n",
        "\n",
        "#minmax scaler used generally\n",
        "#normalizer, converts middle values to 0 or 1\n",
        "#standard, it divides with the constant term, it is used in linear data\n",
        "Standard=StandardScaler()\n",
        "x=Standard.fit_transform(x)\n",
        "x"
      ],
      "execution_count": 0,
      "outputs": []
    },
    {
      "cell_type": "code",
      "metadata": {
        "id": "naJiLhJK8LWh",
        "colab_type": "code",
        "colab": {}
      },
      "source": [
        "#finding the unique value for the outcomes i.e 1 and 0\n",
        "y.unique()"
      ],
      "execution_count": 0,
      "outputs": []
    },
    {
      "cell_type": "code",
      "metadata": {
        "id": "3ib1BQDF8Qpz",
        "colab_type": "code",
        "colab": {}
      },
      "source": [
        "#importing the scikit learn for selection of model and calculation of accuracy score\n",
        "from sklearn.model_selection import train_test_split\n",
        "from sklearn.preprocessing import StandardScaler\n",
        "from sklearn.metrics import accuracy_score"
      ],
      "execution_count": 0,
      "outputs": []
    },
    {
      "cell_type": "code",
      "metadata": {
        "id": "NgFgeWZN8T0Q",
        "colab_type": "code",
        "colab": {}
      },
      "source": [
        "x_train,x_test,y_train,y_test=train_test_split(x,y,test_size=0.20,random_state=7)"
      ],
      "execution_count": 0,
      "outputs": []
    },
    {
      "cell_type": "code",
      "metadata": {
        "id": "AlV_JK3T8bGV",
        "colab_type": "code",
        "colab": {}
      },
      "source": [
        "\n",
        "\n",
        "print (x_train)\n",
        "\n"
      ],
      "execution_count": 0,
      "outputs": []
    },
    {
      "cell_type": "code",
      "metadata": {
        "id": "WzGz8wnz8fXq",
        "colab_type": "code",
        "colab": {}
      },
      "source": [
        "\n",
        "\n",
        "#importing support vector clustering from support vector machine\n",
        "from sklearn.svm import SVC\n",
        "# defining the variable as ml and linear SVC algorithm to use\n",
        "ml=SVC(kernel=\"linear\", C=0.1)\n"
      ],
      "execution_count": 0,
      "outputs": []
    },
    {
      "cell_type": "code",
      "metadata": {
        "id": "gIrvE_r58jil",
        "colab_type": "code",
        "colab": {}
      },
      "source": [
        "ml.fit(x_train,y_train)\n",
        "y_test"
      ],
      "execution_count": 0,
      "outputs": []
    },
    {
      "cell_type": "code",
      "metadata": {
        "id": "eN9Rit4G8oR-",
        "colab_type": "code",
        "colab": {}
      },
      "source": [
        "y_pred_lsvc=ml.predict(x_test)"
      ],
      "execution_count": 0,
      "outputs": []
    },
    {
      "cell_type": "code",
      "metadata": {
        "id": "5YY4Be7d8pR8",
        "colab_type": "code",
        "colab": {}
      },
      "source": [
        "from numpy import round\n",
        "score_lsvc = round(accuracy_score(y_pred_lsvc,y_test)*100,2)\n",
        "print(\"The accuracy score of Linear SVM is \" ,score_lsvc, \"%\")"
      ],
      "execution_count": 0,
      "outputs": []
    },
    {
      "cell_type": "code",
      "metadata": {
        "id": "s0NLk8r68snR",
        "colab_type": "code",
        "colab": {}
      },
      "source": [
        "#using random forest classifier\n",
        "from sklearn.ensemble import RandomForestClassifier"
      ],
      "execution_count": 0,
      "outputs": []
    },
    {
      "cell_type": "code",
      "metadata": {
        "id": "IBCVo_3X8yOP",
        "colab_type": "code",
        "colab": {}
      },
      "source": [
        "randomforest=RandomForestClassifier()"
      ],
      "execution_count": 0,
      "outputs": []
    },
    {
      "cell_type": "code",
      "metadata": {
        "id": "kFyThKlO8zU1",
        "colab_type": "code",
        "colab": {}
      },
      "source": [
        "randomforest.fit(x_train,y_train)"
      ],
      "execution_count": 0,
      "outputs": []
    },
    {
      "cell_type": "code",
      "metadata": {
        "id": "t1jMUmEG829r",
        "colab_type": "code",
        "colab": {}
      },
      "source": [
        "ss=randomforest.predict(x_test)"
      ],
      "execution_count": 0,
      "outputs": []
    },
    {
      "cell_type": "code",
      "metadata": {
        "id": "KMvTAxZ-9B1O",
        "colab_type": "code",
        "colab": {}
      },
      "source": [
        "from numpy import round\n",
        "score_randomforest = round(accuracy_score(ss,y_test)*100,2)\n",
        "print(\"The accuracy score of Random Forest is \" ,score_randomforest, \"%\")"
      ],
      "execution_count": 0,
      "outputs": []
    },
    {
      "cell_type": "code",
      "metadata": {
        "id": "3SXDAXdT9C0g",
        "colab_type": "code",
        "colab": {}
      },
      "source": [
        "#using logistic regression\n",
        "from sklearn.linear_model import LogisticRegression\n",
        "lr= LogisticRegression()\n",
        "lr.fit(x_train,y_train)\n",
        "y_pred_lr = lr.predict(x_test)"
      ],
      "execution_count": 0,
      "outputs": []
    },
    {
      "cell_type": "code",
      "metadata": {
        "id": "WgQ1BCxy9LUb",
        "colab_type": "code",
        "colab": {}
      },
      "source": [
        "from numpy import round\n",
        "score_lr = round(accuracy_score(y_pred_lr,y_test)*100,2)\n",
        "print(\"The accuracy score of Logistic Regression is \" ,score_lr, \"%\")"
      ],
      "execution_count": 0,
      "outputs": []
    },
    {
      "cell_type": "code",
      "metadata": {
        "id": "13oyvoP99MFN",
        "colab_type": "code",
        "colab": {}
      },
      "source": [
        "#confusion matrix for true positive, false positive, false negative and true negative\n",
        "\n",
        "from sklearn.metrics import confusion_matrix,roc_curve,auc"
      ],
      "execution_count": 0,
      "outputs": []
    },
    {
      "cell_type": "code",
      "metadata": {
        "id": "OVrY7aPv9Sxn",
        "colab_type": "code",
        "colab": {}
      },
      "source": [
        "#calculation of the confusion matrix of used algorihm i.e Random Forest Classifier\n",
        "confusion_matrix(ss,y_test)"
      ],
      "execution_count": 0,
      "outputs": []
    },
    {
      "cell_type": "code",
      "metadata": {
        "id": "7UmsXYVp9WJT",
        "colab_type": "code",
        "colab": {}
      },
      "source": [
        "\n",
        "\n",
        "fpr, tpr, thresholds = roc_curve(y_test, ss)\n",
        "\n"
      ],
      "execution_count": 0,
      "outputs": []
    },
    {
      "cell_type": "code",
      "metadata": {
        "id": "V4ZC-syl9a0a",
        "colab_type": "code",
        "colab": {}
      },
      "source": [
        "#calculating the false positive rate\n",
        "fpr"
      ],
      "execution_count": 0,
      "outputs": []
    },
    {
      "cell_type": "code",
      "metadata": {
        "id": "yGP7zpZK9fog",
        "colab_type": "code",
        "colab": {}
      },
      "source": [
        "#calculating the true positive rate\n",
        "tpr"
      ],
      "execution_count": 0,
      "outputs": []
    },
    {
      "cell_type": "code",
      "metadata": {
        "id": "oWVaXKZB9gn9",
        "colab_type": "code",
        "colab": {}
      },
      "source": [
        "#calculating the thresholds\n",
        "thresholds"
      ],
      "execution_count": 0,
      "outputs": []
    },
    {
      "cell_type": "code",
      "metadata": {
        "id": "MG011Y6Z9mZJ",
        "colab_type": "code",
        "colab": {}
      },
      "source": [
        "#plotting the false positive rate and true positive rate in 2D graph\n",
        "plt.plot(fpr)\n",
        "plt.plot(tpr)"
      ],
      "execution_count": 0,
      "outputs": []
    },
    {
      "cell_type": "code",
      "metadata": {
        "id": "ntfQrTSs9qh-",
        "colab_type": "code",
        "colab": {}
      },
      "source": [
        "#calculating area_curve of fpr and tpr\n",
        "area_curve=auc(fpr,tpr)"
      ],
      "execution_count": 0,
      "outputs": []
    },
    {
      "cell_type": "code",
      "metadata": {
        "id": "WX-hpWSx9tfM",
        "colab_type": "code",
        "colab": {}
      },
      "source": [
        "area_curve"
      ],
      "execution_count": 0,
      "outputs": []
    },
    {
      "cell_type": "code",
      "metadata": {
        "id": "GoWHoj7n9we6",
        "colab_type": "code",
        "colab": {}
      },
      "source": [
        "#for calculation of f1 score\n",
        "precision_recall_fscore_support(y_test, ss, average='weighted')"
      ],
      "execution_count": 0,
      "outputs": []
    },
    {
      "cell_type": "code",
      "metadata": {
        "id": "i-R8twdk91Zp",
        "colab_type": "code",
        "colab": {}
      },
      "source": [
        "\n",
        "\n",
        "#to make gradient descend float is used, for minimizing loss function\n",
        "import numpy as np\n",
        "anss=True\n",
        "while anss==True:\n",
        "    inn=input(\"Are your Male or Female?(Type male or female.)\")\n",
        "    if inn.lower()==\"female\":        \n",
        "        a=input(\"Please enter Number of times pregnant(Pregnancies)? : \")\n",
        "        b=input(\"Please enter the value of  Plasma glucose concentration a 2 hours in an oral glucose tolerance test(Gulcose)? : \")\n",
        "        c=input(\"Please enter the value of Diastolic blood pressure in mm Hg (Blood Pressure)? : \")\n",
        "        d=input(\"Please enter the value of Triceps skin fold thickness in mm (Skin Thickness)? : \")\n",
        "        e=input(\"Please enter the value of 2-Hour serum insulin in mu U/ml (Insulin)? : \")\n",
        "        f=input(\"Please enter the value of Body mass index (weight in kg/(height in m)^2) (BMI)? : \")\n",
        "        g=input(\"Please enter the value of Diabetes pedigree function? (Diabetes Pedigree Function): \")\n",
        "        h=input(\"Please enter the value of age? (Age)\")\n",
        "        lis=[a,b,c,d,e,f,g,h]\n",
        "        lis= np.array(lis).reshape(1,-1).astype(float)\n",
        "        aa = randomforest.predict(lis)\n",
        "        ss =list(aa)\n",
        "        lia= [\"Congratulations, You have no chance of diabetes. Stay healthy\", \"Sorry, There is chance that you may suffer from diabetes.\"]\n",
        "        print(lia[ss[0]])\n",
        "        break\n",
        "    elif inn.lower()==\"male\":\n",
        "        print(\"Sorry, we don't predict the diabetes of males right now\")\n",
        "\n"
      ],
      "execution_count": 0,
      "outputs": []
    }
  ]
}