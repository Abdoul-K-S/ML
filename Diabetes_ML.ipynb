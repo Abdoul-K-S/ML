{
  "nbformat": 4,
  "nbformat_minor": 0,
  "metadata": {
    "colab": {
      "name": "Diabetes_ML.ipynb",
      "provenance": [],
      "authorship_tag": "ABX9TyOVmKNlXXxM5c6nGqUNd5Af",
      "include_colab_link": true
    },
    "kernelspec": {
      "name": "python3",
      "display_name": "Python 3"
    }
  },
  "cells": [
    {
      "cell_type": "markdown",
      "metadata": {
        "id": "view-in-github",
        "colab_type": "text"
      },
      "source": [
        "<a href=\"https://colab.research.google.com/github/Abdoul-K-S/ML/blob/master/Diabetes_ML.ipynb\" target=\"_parent\"><img src=\"https://colab.research.google.com/assets/colab-badge.svg\" alt=\"Open In Colab\"/></a>"
      ]
    },
    {
      "cell_type": "markdown",
      "metadata": {
        "id": "riFMyvmzFntx",
        "colab_type": "text"
      },
      "source": [
        "Loading Libraries"
      ]
    },
    {
      "cell_type": "code",
      "metadata": {
        "id": "BizDDfaF0eTD",
        "colab_type": "code",
        "colab": {}
      },
      "source": [
        "import pandas as pd\n",
        "import numpy as np\n",
        "import matplotlib.pyplot as plt\n",
        "import seaborn as sns\n",
        "import seaborn as sn\n",
        "%matplotlib inline"
      ],
      "execution_count": 0,
      "outputs": []
    },
    {
      "cell_type": "markdown",
      "metadata": {
        "id": "oqJL_sXqGbC4",
        "colab_type": "text"
      },
      "source": [
        "Load data"
      ]
    },
    {
      "cell_type": "code",
      "metadata": {
        "id": "kd25AO8vGjK7",
        "colab_type": "code",
        "colab": {}
      },
      "source": [
        "diabet = pd.read_csv(\"datasets/log_reg_data1.csv\")\n",
        "diabet.head()"
      ],
      "execution_count": 0,
      "outputs": []
    },
    {
      "cell_type": "markdown",
      "metadata": {
        "id": "66F-LezMHHGT",
        "colab_type": "text"
      },
      "source": [
        "Show the shape of DataSet: (Lines and Columns)"
      ]
    },
    {
      "cell_type": "code",
      "metadata": {
        "id": "895lWgxVHIHV",
        "colab_type": "code",
        "colab": {}
      },
      "source": [
        "diabet.shape"
      ],
      "execution_count": 0,
      "outputs": []
    },
    {
      "cell_type": "markdown",
      "metadata": {
        "id": "NIlQJr8SHTxn",
        "colab_type": "text"
      },
      "source": [
        "View some basic statistical details"
      ]
    },
    {
      "cell_type": "code",
      "metadata": {
        "id": "20mqR-r1HUuS",
        "colab_type": "code",
        "colab": {}
      },
      "source": [
        "diabet.describe()"
      ],
      "execution_count": 0,
      "outputs": []
    },
    {
      "cell_type": "markdown",
      "metadata": {
        "id": "cUqpC6Y2H2u_",
        "colab_type": "text"
      },
      "source": [
        "\n",
        "Show the outcome:\n",
        "the number of zero represents holy patients and the number of one represents patients at risk of Diabetes.\n",
        "\n"
      ]
    },
    {
      "cell_type": "code",
      "metadata": {
        "id": "hyCx92cPI674",
        "colab_type": "code",
        "colab": {}
      },
      "source": [
        "diabet.Outcome.value_counts()\n",
        "print(diabet.Outcome.value_counts())\n",
        "sn.countplot(x = 'Outcome', data = diabet)"
      ],
      "execution_count": 0,
      "outputs": []
    },
    {
      "cell_type": "markdown",
      "metadata": {
        "id": "xzxWSAgUK5-t",
        "colab_type": "text"
      },
      "source": [
        "Found more details"
      ]
    },
    {
      "cell_type": "code",
      "metadata": {
        "id": "G6wiUC9oLLE_",
        "colab_type": "code",
        "colab": {}
      },
      "source": [
        "sn.pairplot(data = diabet)"
      ],
      "execution_count": 0,
      "outputs": []
    },
    {
      "cell_type": "markdown",
      "metadata": {
        "id": "qk1sPgO4LjZF",
        "colab_type": "text"
      },
      "source": [
        "\n",
        "Data Visualisation with histogram"
      ]
    },
    {
      "cell_type": "code",
      "metadata": {
        "id": "7ChoXRLXLqqL",
        "colab_type": "code",
        "colab": {}
      },
      "source": [
        "diabet.hist(figsize = (12, 10))"
      ],
      "execution_count": 0,
      "outputs": []
    },
    {
      "cell_type": "markdown",
      "metadata": {
        "id": "-ioUcAqeMMHw",
        "colab_type": "text"
      },
      "source": [
        "Show the correlations"
      ]
    },
    {
      "cell_type": "code",
      "metadata": {
        "id": "pLW9VEQ2MOkG",
        "colab_type": "code",
        "colab": {}
      },
      "source": [
        "corr = diabet.corr()"
      ],
      "execution_count": 0,
      "outputs": []
    },
    {
      "cell_type": "markdown",
      "metadata": {
        "id": "FUR2SjLKMmfw",
        "colab_type": "text"
      },
      "source": [
        "Get correlations of each features in dataset, and plot heat map"
      ]
    },
    {
      "cell_type": "code",
      "metadata": {
        "id": "7sGFfcODMo4F",
        "colab_type": "code",
        "colab": {}
      },
      "source": [
        "sns.heatmap(corr, annot = True)"
      ],
      "execution_count": 0,
      "outputs": []
    },
    {
      "cell_type": "markdown",
      "metadata": {
        "id": "va81VvniMxVe",
        "colab_type": "text"
      },
      "source": [
        "\n",
        "Classification using 02 models:\n",
        "\n",
        "(SVM and LogisticRegression) and compare them\n",
        "\n"
      ]
    },
    {
      "cell_type": "code",
      "metadata": {
        "id": "tY-SKjsuN9dY",
        "colab_type": "code",
        "colab": {}
      },
      "source": [
        "from sklearn.model_selection import train_test_split\n",
        "import sklearn\n",
        "\n",
        "feature_columns = ['Pregnancies','Glucose','BloodPressure','SkinThickness','Insulin','BMI','DiabetesPedigreeFunction','Age']\n",
        "predicted_class = ['Outcome']\n",
        "    \n",
        "X = diabet[feature_columns].values\n",
        "Y = diabet[predicted_class].values\n",
        "\n",
        "#Extract X:(Train and Test) and Y:(Train and Test)\n",
        "X_train,X_test,Y_train,Y_test=train_test_split(X,Y,test_size=.20,random_state=5)"
      ],
      "execution_count": 0,
      "outputs": []
    },
    {
      "cell_type": "markdown",
      "metadata": {
        "id": "TjTT_XeMPI9y",
        "colab_type": "text"
      },
      "source": [
        "Loading Libraries"
      ]
    },
    {
      "cell_type": "code",
      "metadata": {
        "id": "elWRwrrbPCTh",
        "colab_type": "code",
        "colab": {}
      },
      "source": [
        "from sklearn.model_selection import KFold\n",
        "from sklearn.model_selection import cross_val_score\n",
        "from sklearn.linear_model import LogisticRegression\n",
        "#from sklearn.neighbors import KNeighborsClassifier\n",
        "from sklearn.svm import SVC"
      ],
      "execution_count": 0,
      "outputs": []
    },
    {
      "cell_type": "markdown",
      "metadata": {
        "id": "qdtIg1BBPSQu",
        "colab_type": "text"
      },
      "source": [
        "Call the three Models"
      ]
    },
    {
      "cell_type": "code",
      "metadata": {
        "id": "TG9gyOL0PTO9",
        "colab_type": "code",
        "colab": {}
      },
      "source": [
        "models = []\n",
        "#models.append((\"KNN\",KNeighborsClassifier()))\n",
        "models.append((\"SVM\",SVC()))\n",
        "models.append((\"LR\",LogisticRegression()))"
      ],
      "execution_count": 0,
      "outputs": []
    },
    {
      "cell_type": "code",
      "metadata": {
        "id": "VwLeEuAVPsip",
        "colab_type": "code",
        "colab": {}
      },
      "source": [
        "results = []\n",
        "names = []\n",
        "for name,model in models:\n",
        "    kfold = KFold(n_splits=10, random_state=22)\n",
        "    cv_result = cross_val_score(model,X_train,Y_train, cv = kfold,scoring = \"accuracy\")\n",
        "    names.append(name)\n",
        "    results.append(cv_result)\n",
        "for i in range(len(names)):\n",
        "    print(names[i],results[i].mean())"
      ],
      "execution_count": 0,
      "outputs": []
    },
    {
      "cell_type": "markdown",
      "metadata": {
        "id": "q1UouKNVQFAW",
        "colab_type": "text"
      },
      "source": [
        "Visualising Results"
      ]
    },
    {
      "cell_type": "code",
      "metadata": {
        "id": "4_iUg-wfQEKP",
        "colab_type": "code",
        "colab": {}
      },
      "source": [
        "ax = sns.boxplot(data=results)\n",
        "ax.set_xticklabels(names)"
      ],
      "execution_count": 0,
      "outputs": []
    },
    {
      "cell_type": "markdown",
      "metadata": {
        "id": "NMm0fJQ7Q4AL",
        "colab_type": "text"
      },
      "source": [
        "Loading Libraries"
      ]
    },
    {
      "cell_type": "code",
      "metadata": {
        "id": "v2p76FjaRF57",
        "colab_type": "code",
        "colab": {}
      },
      "source": [
        "from sklearn.metrics import accuracy_score\n",
        "from sklearn.metrics import classification_report\n",
        "from sklearn.metrics import confusion_matrix"
      ],
      "execution_count": 0,
      "outputs": []
    },
    {
      "cell_type": "markdown",
      "metadata": {
        "id": "uf6zOgzqQ4dV",
        "colab_type": "text"
      },
      "source": [
        "Final Prediction using Test Data"
      ]
    },
    {
      "cell_type": "markdown",
      "metadata": {
        "id": "_4kUU5Z2RVoC",
        "colab_type": "text"
      },
      "source": [
        "Calculate the accuracy of: SVM Classifier"
      ]
    },
    {
      "cell_type": "code",
      "metadata": {
        "id": "njbN9aFsRKgi",
        "colab_type": "code",
        "colab": {}
      },
      "source": [
        "svm = SVC()\n",
        "svm.fit(X_train,Y_train)\n",
        "predictions = svm.predict(X_test)\n",
        "\n",
        "print('Accuracy of SVM_Model: ',accuracy_score(Y_test,predictions))"
      ],
      "execution_count": 0,
      "outputs": []
    },
    {
      "cell_type": "markdown",
      "metadata": {
        "id": "qNl63lgNSUEY",
        "colab_type": "text"
      },
      "source": [
        "Calculate the accuracy of: Logistic Regression Classifier"
      ]
    },
    {
      "cell_type": "code",
      "metadata": {
        "id": "o2b6V50ESU4t",
        "colab_type": "code",
        "colab": {}
      },
      "source": [
        "lr = LogisticRegression()\n",
        "lr.fit(X_train,Y_train)\n",
        "predictions = lr.predict(X_test)\n",
        "\n",
        "print('Accuracy of LogisticRegression_Model: ',accuracy_score(Y_test,predictions))"
      ],
      "execution_count": 0,
      "outputs": []
    },
    {
      "cell_type": "markdown",
      "metadata": {
        "id": "EgX2DmxmSdx5",
        "colab_type": "text"
      },
      "source": [
        "A graphical representation of data"
      ]
    },
    {
      "cell_type": "code",
      "metadata": {
        "id": "VyP2IfOESem1",
        "colab_type": "code",
        "colab": {}
      },
      "source": [
        "conf = confusion_matrix(Y_test,predictions)\n",
        "\n",
        "label = [\"0\",\"1\"]\n",
        "sns.heatmap(conf, annot=True, xticklabels=label, yticklabels=label)"
      ],
      "execution_count": 0,
      "outputs": []
    }
  ]
}